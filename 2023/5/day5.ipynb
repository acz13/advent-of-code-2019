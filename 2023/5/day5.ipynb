{
 "cells": [
  {
   "cell_type": "code",
   "execution_count": 1,
   "metadata": {},
   "outputs": [],
   "source": [
    "# Big input\n",
    "input_file = \"/home/bert/Downloads/05.txt\"\n",
    "# input_file = \"input.txt\"\n",
    "with open(input_file, \"r\") as f:\n",
    "    line1, *rest = f.read().split(\"\\n\\n\")\n",
    "seeds = [int(s) for s in line1.split()[1:]]\n",
    "ranges = [(seeds[s], seeds[s] + seeds[s+1]) for s in range(0, len(seeds), 2)]\n",
    "\n",
    "maps = [\n",
    "    sorted(\n",
    "        ((s := [int(i) for i in l.split()])[1], s[2], s[0])\n",
    "        for l in map.split(\"\\n\")[1:]\n",
    "    )\n",
    "    for map in rest\n",
    "]"
   ]
  },
  {
   "cell_type": "code",
   "execution_count": 2,
   "metadata": {},
   "outputs": [
    {
     "name": "stdout",
     "output_type": "stream",
     "text": [
      "14876664\n",
      "37.2 ms ± 4.52 ms per loop (mean ± std. dev. of 7 runs, 10 loops each)\n"
     ]
    }
   ],
   "source": [
    "from bisect import bisect_left, bisect_right\n",
    "\n",
    "def precompute_start_stop(m):\n",
    "    start = []\n",
    "    stop = []\n",
    "    for i, k, _ in m:\n",
    "        start.append(i)\n",
    "        stop.append(i + k)\n",
    "    return start, sorted(stop)\n",
    "\n",
    "def part1(seeds, maps=maps):\n",
    "    for m in maps:\n",
    "        out = []\n",
    "        start, stop = precompute_start_stop(m)\n",
    "        for seed in seeds:\n",
    "            for n in range(bisect_right(stop, seed), bisect_right(start, seed)):\n",
    "                source, length, dest = m[n]\n",
    "                if source <= seed < source + length:\n",
    "                    out.append(dest + seed - source)\n",
    "                    break\n",
    "            else:\n",
    "                out.append(seed)\n",
    "        seeds = out\n",
    "    return seeds\n",
    "\n",
    "print(min(part1(seeds)))\n",
    "%timeit min(part1(seeds))"
   ]
  },
  {
   "cell_type": "code",
   "execution_count": 3,
   "metadata": {},
   "outputs": [
    {
     "name": "stdout",
     "output_type": "stream",
     "text": [
      "441394\n",
      "99.9 ms ± 19.5 ms per loop (mean ± std. dev. of 7 runs, 10 loops each)\n"
     ]
    }
   ],
   "source": [
    "import collections\n",
    "from heapq import heappush, heappop\n",
    "\n",
    "def part2(ranges, maps=maps):\n",
    "    v = collections.deque(ranges)\n",
    "    w = []\n",
    "    for m in maps:\n",
    "        start, stop = precompute_start_stop(m)\n",
    "        while v:\n",
    "            a, b = v.popleft()\n",
    "            for n in range(bisect_right(stop, a), bisect_left(start, b)):\n",
    "                i, k, j = m[n]\n",
    "                off = j - i\n",
    "                l = i + k                \n",
    "                if i <= a < l:\n",
    "                    if l < b:\n",
    "                        v.append((l, b))\n",
    "                        heappush(w, (a + off, l + off))\n",
    "                    else:\n",
    "                        heappush(w, (a + off, b + off))\n",
    "                    break\n",
    "                elif i < b <= l:\n",
    "                    v.append((a, i))\n",
    "                    heappush(w, (i + off, b + off))\n",
    "                    break\n",
    "                elif a < i and l < b:\n",
    "                    v.append((a, i))\n",
    "                    v.append((l, b))\n",
    "                    heappush(w, (i + off, l + off))\n",
    "                    break\n",
    "            else:\n",
    "                heappush(w, (a, b))\n",
    "        last_a, last_b = heappop(w)\n",
    "        while w:\n",
    "            a, b = heappop(w)\n",
    "            if a > last_b:\n",
    "                v.append((last_a, last_b))\n",
    "                last_a = a\n",
    "                last_b = b\n",
    "            else:\n",
    "                last_b = b\n",
    "        v.append((last_a, last_b))\n",
    "    return v\n",
    "\n",
    "print(min(part2(ranges))[0])\n",
    "%timeit min(part2(ranges))"
   ]
  }
 ],
 "metadata": {
  "kernelspec": {
   "display_name": "advent-of-code",
   "language": "python",
   "name": "advent-of-code"
  },
  "language_info": {
   "codemirror_mode": {
    "name": "ipython",
    "version": 3
   },
   "file_extension": ".py",
   "mimetype": "text/x-python",
   "name": "python",
   "nbconvert_exporter": "python",
   "pygments_lexer": "ipython3",
   "version": "3.11.6"
  }
 },
 "nbformat": 4,
 "nbformat_minor": 4
}
