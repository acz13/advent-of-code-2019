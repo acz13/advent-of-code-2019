{
 "cells": [
  {
   "cell_type": "code",
   "execution_count": 1,
   "metadata": {},
   "outputs": [
    {
     "name": "stdout",
     "output_type": "stream",
     "text": [
      "\n"
     ]
    },
    {
     "data": {
      "application/vnd.jupyter.widget-view+json": {
       "model_id": "ca29d3ef9c094735953e0c0ee53dce16",
       "version_major": 2,
       "version_minor": 0
      },
      "text/plain": [
       "VBox(children=(Textarea(value='', description='Input:', layout=Layout(width='1200px')), HBox(children=(Button(…"
      ]
     },
     "metadata": {},
     "output_type": "display_data"
    },
    {
     "data": {
      "application/vnd.jupyter.widget-view+json": {
       "model_id": "cbd89c81a08a4102989f4f9ea5272ca1",
       "version_major": 2,
       "version_minor": 0
      },
      "text/plain": [
       "Output()"
      ]
     },
     "metadata": {},
     "output_type": "display_data"
    }
   ],
   "source": [
    "from alchzh_aoc_helpers.nb import AOCWidget\n",
    "from alchzh_aoc_helpers.aliases import *\n",
    "A = AOCWidget(2023, 5); A"
   ]
  },
  {
   "cell_type": "code",
   "execution_count": 36,
   "metadata": {},
   "outputs": [],
   "source": [
    "line1, *rest = str(A).split(\"\\n\\n\")\n",
    "seeds = [int(s) for s in line1.split()[1:]]\n",
    "ranges = [(seeds[s], seeds[s] + seeds[s+1]) for s in range(0, len(seeds), 2)]\n",
    "\n",
    "maps = [\n",
    "    sorted((\n",
    "        [int(i) for i in l.split()]\n",
    "        for l in m.split(\"\\n\")[1:]\n",
    "    ), key=lambda x: x[1])\n",
    "    for m in rest\n",
    "]"
   ]
  },
  {
   "cell_type": "code",
   "execution_count": 44,
   "metadata": {},
   "outputs": [
    {
     "name": "stdout",
     "output_type": "stream",
     "text": [
      "227653707\n",
      "176 µs ± 14.3 µs per loop (mean ± std. dev. of 7 runs, 1,000 loops each)\n"
     ]
    }
   ],
   "source": [
    "def part1(seed, maps=maps):\n",
    "    ret = seed\n",
    "    for map in maps:\n",
    "        for dest, source, length in map:\n",
    "            if source <= ret < source + length:\n",
    "                ret = dest + ret - source\n",
    "                break\n",
    "    return ret\n",
    "\n",
    "print(min(part1(s) for s in seeds))\n",
    "%timeit min(part1(s) for s in seeds)"
   ]
  },
  {
   "cell_type": "code",
   "execution_count": 50,
   "metadata": {},
   "outputs": [
    {
     "name": "stdout",
     "output_type": "stream",
     "text": [
      "Part 2: 78775051\n",
      "1.66 ms ± 53.3 µs per loop (mean ± std. dev. of 7 runs, 1,000 loops each)\n"
     ]
    }
   ],
   "source": [
    "from heapq import heappush, heappop\n",
    "\n",
    "def part2(ranges, maps=maps):\n",
    "    v = collections.deque(ranges)\n",
    "    w = []\n",
    "    for map in maps:\n",
    "        while v:\n",
    "            a, b = v.popleft()\n",
    "            for j, i, k in map:\n",
    "                off = j - i\n",
    "                l = i + k                \n",
    "                if i <= a < l:\n",
    "                    if l < b:\n",
    "                        v.append((l, b))\n",
    "                        heappush(w, (a + off, l + off))\n",
    "                    else:\n",
    "                        heappush(w, (a + off, b + off))\n",
    "                    break\n",
    "                elif i < b <= l:\n",
    "                    v.append((a, i))\n",
    "                    heappush(w, (i + off, b + off))\n",
    "                    break\n",
    "                elif a < i and l < b:\n",
    "                    v.append((a, i))\n",
    "                    v.append((l, b))\n",
    "                    heappush(w, (i + off, l + off))\n",
    "                    break\n",
    "            else:\n",
    "                heappush(w, (a, b))\n",
    "        last_a, last_b = heappop(w)\n",
    "        while w:\n",
    "            a, b = heappop(w)\n",
    "            if a > last_b:\n",
    "                v.append((last_a, last_b))\n",
    "                last_a = a\n",
    "                last_b = b\n",
    "            else:\n",
    "                last_b = b\n",
    "        v.append((last_a, last_b))\n",
    "    return min(v)[0]\n",
    "\n",
    "print(\"Part 2:\", part2(ranges))\n",
    "%timeit rmap(ranges)"
   ]
  }
 ],
 "metadata": {
  "kernelspec": {
   "display_name": "advent-of-code",
   "language": "python",
   "name": "advent-of-code"
  },
  "language_info": {
   "codemirror_mode": {
    "name": "ipython",
    "version": 3
   },
   "file_extension": ".py",
   "mimetype": "text/x-python",
   "name": "python",
   "nbconvert_exporter": "python",
   "pygments_lexer": "ipython3",
   "version": "3.11.6"
  }
 },
 "nbformat": 4,
 "nbformat_minor": 2
}
