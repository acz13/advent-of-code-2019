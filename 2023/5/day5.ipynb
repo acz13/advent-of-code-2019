{
 "cells": [
  {
   "cell_type": "code",
   "execution_count": 1,
   "metadata": {},
   "outputs": [
    {
     "name": "stdout",
     "output_type": "stream",
     "text": [
      "\n"
     ]
    },
    {
     "data": {
      "application/vnd.jupyter.widget-view+json": {
       "model_id": "727d8b5e63a34d2bb6c7e4f6b527089e",
       "version_major": 2,
       "version_minor": 0
      },
      "text/plain": [
       "VBox(children=(Textarea(value='', description='Input:', layout=Layout(width='1200px')), HBox(children=(Button(…"
      ]
     },
     "metadata": {},
     "output_type": "display_data"
    },
    {
     "data": {
      "application/vnd.jupyter.widget-view+json": {
       "model_id": "6f5f8809ffa5435c823d690a024926a5",
       "version_major": 2,
       "version_minor": 0
      },
      "text/plain": [
       "Output()"
      ]
     },
     "metadata": {},
     "output_type": "display_data"
    }
   ],
   "source": [
    "from alchzh_aoc_helpers.nb import AOCWidget\n",
    "from alchzh_aoc_helpers.aliases import *\n",
    "A = AOCWidget(2023, 5); A"
   ]
  },
  {
   "cell_type": "code",
   "execution_count": 2,
   "metadata": {},
   "outputs": [
    {
     "name": "stdout",
     "output_type": "stream",
     "text": [
      "Part 1: 227653707\n",
      "Part 2: 78775051\n"
     ]
    }
   ],
   "source": [
    "seeds = [int(s) for s in A.L[0].split()[1:]]\n",
    "ranges = [[seeds[s], seeds[s] + seeds[s+1]] for s in range(0, len(seeds), 2)]\n",
    "\n",
    "maps = [\n",
    "    [\n",
    "        [int(i) for i in l.split()]\n",
    "        for l in m.split(\"\\n\")[1:]\n",
    "    ]\n",
    "    for m in str(A).strip().split(\"\\n\\n\")[1:]\n",
    "]\n",
    "\n",
    "def smap(s, maps=maps):\n",
    "    v = s\n",
    "    for map in maps:\n",
    "        for j, i, k in map:\n",
    "            if 0 <= v - i < k:\n",
    "                v = j + v - i\n",
    "                break\n",
    "    return v\n",
    "\n",
    "\n",
    "def rmap(rng, maps=maps):\n",
    "    v = [rng]\n",
    "    for map in maps:\n",
    "        w = []\n",
    "        while len(v):\n",
    "            a, b = v.pop(0)\n",
    "            o = len(w)\n",
    "            for j, i, k in map:\n",
    "                if b - a == 0:\n",
    "                    continue\n",
    "                p = j - i\n",
    "                if i <= a < i + k:\n",
    "                    if i + k < b:\n",
    "                        v.append((i + k, b))\n",
    "                        w.append((a + p, i + k + p))\n",
    "                    else:\n",
    "                        w.append((a + p, b + p))\n",
    "                elif i < b <= i + k:\n",
    "                    v.append((a, i))\n",
    "                    w.append((i + p, b + p))\n",
    "                elif a < i and b > i + k:\n",
    "                    v.append((a, i))\n",
    "                    v.append((i + k, b))\n",
    "                    w.append((i + p, i + k + p))\n",
    "            if len(w) == o:\n",
    "                w.append((a, b))\n",
    "        v = []\n",
    "        c = None\n",
    "        for a, b in sorted(w):\n",
    "            if c is None or a > c[1]:\n",
    "                c = [a, b]\n",
    "                v.append(c)\n",
    "            else:\n",
    "                c[1] = b            \n",
    "    return min(v)[0]\n",
    "\n",
    "print(\"Part 1:\", min(smap(s) for s in seeds))\n",
    "print(\"Part 2:\", min(rmap(r) for r in ranges))"
   ]
  }
 ],
 "metadata": {
  "kernelspec": {
   "display_name": "advent-of-code",
   "language": "python",
   "name": "advent-of-code"
  },
  "language_info": {
   "codemirror_mode": {
    "name": "ipython",
    "version": 3
   },
   "file_extension": ".py",
   "mimetype": "text/x-python",
   "name": "python",
   "nbconvert_exporter": "python",
   "pygments_lexer": "ipython3",
   "version": "3.11.6"
  }
 },
 "nbformat": 4,
 "nbformat_minor": 2
}
