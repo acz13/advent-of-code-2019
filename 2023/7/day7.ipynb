{
 "cells": [
  {
   "cell_type": "code",
   "execution_count": 1,
   "metadata": {},
   "outputs": [
    {
     "name": "stdout",
     "output_type": "stream",
     "text": [
      "\n"
     ]
    },
    {
     "data": {
      "application/vnd.jupyter.widget-view+json": {
       "model_id": "87ca552b9dce445ea2b5e942d8521f71",
       "version_major": 2,
       "version_minor": 0
      },
      "text/plain": [
       "VBox(children=(Textarea(value='', description='Input:', layout=Layout(width='1200px')), HBox(children=(Button(…"
      ]
     },
     "metadata": {},
     "output_type": "display_data"
    },
    {
     "data": {
      "application/vnd.jupyter.widget-view+json": {
       "model_id": "07a9e907cd6248b1a16476cd8969a19f",
       "version_major": 2,
       "version_minor": 0
      },
      "text/plain": [
       "Output()"
      ]
     },
     "metadata": {},
     "output_type": "display_data"
    }
   ],
   "source": [
    "from alchzh_aoc_helpers.nb import AOCWidget\n",
    "from alchzh_aoc_helpers.aliases import *\n",
    "A = AOCWidget(); A"
   ]
  },
  {
   "cell_type": "code",
   "execution_count": 34,
   "metadata": {},
   "outputs": [],
   "source": [
    "m = {\n",
    "    \"T\": 10,\n",
    "    \"J\": 11,\n",
    "    \"Q\": 12,\n",
    "    \"K\": 13,\n",
    "    \"A\": 14,\n",
    "    **{\n",
    "        str(i): i for i in range(1, 10)\n",
    "    }\n",
    "}\n",
    "\n",
    "hands = []\n",
    "for line in A.L:\n",
    "    hand, bid = line.split()\n",
    "    bid = int(bid)\n",
    "    *counts, best = sorted(Co(hand).values())\n",
    "    if best == 3 or best == 2:\n",
    "        secondary = counts[-1]\n",
    "    else:\n",
    "        secondary = 0\n",
    "    hands.append((\n",
    "        best,\n",
    "        secondary,\n",
    "        *(m[h] for h in hand),\n",
    "        bid\n",
    "    ))"
   ]
  },
  {
   "cell_type": "code",
   "execution_count": 35,
   "metadata": {},
   "outputs": [
    {
     "name": "stdout",
     "output_type": "stream",
     "text": [
      "250946742\n"
     ]
    }
   ],
   "source": [
    "print(sum((i + 1) * h[-1] for i, h in enumerate(sorted(hands))))"
   ]
  },
  {
   "cell_type": "code",
   "execution_count": 59,
   "metadata": {},
   "outputs": [],
   "source": [
    "m2 = {\n",
    "    **m,\n",
    "    \"J\": 0\n",
    "}\n",
    "\n",
    "hands = []\n",
    "for line in A.L:\n",
    "    hand, bid = line.split()\n",
    "    bid = int(bid)\n",
    "    counter = Co(hand)\n",
    "    jokers = counter.pop(\"J\", 0)\n",
    "    if not len(counter):\n",
    "        best = 5\n",
    "    else:\n",
    "        *counts, best = sorted(counter.values())\n",
    "        best += jokers\n",
    "    if best == 3 or best == 2:\n",
    "        secondary = counts[-1]\n",
    "    else:\n",
    "        secondary = 0\n",
    "    hands.append((\n",
    "        best,\n",
    "        secondary,\n",
    "        *(m2[h] for h in hand),\n",
    "        bid\n",
    "    ))"
   ]
  },
  {
   "cell_type": "code",
   "execution_count": 60,
   "metadata": {},
   "outputs": [
    {
     "name": "stdout",
     "output_type": "stream",
     "text": [
      "251824095\n"
     ]
    }
   ],
   "source": [
    "print(sum((i + 1) * h[-1] for i, h in enumerate(sorted(hands))))"
   ]
  }
 ],
 "metadata": {
  "kernelspec": {
   "display_name": "advent-of-code",
   "language": "python",
   "name": "advent-of-code"
  },
  "language_info": {
   "codemirror_mode": {
    "name": "ipython",
    "version": 3
   },
   "file_extension": ".py",
   "mimetype": "text/x-python",
   "name": "python",
   "nbconvert_exporter": "python",
   "pygments_lexer": "ipython3",
   "version": "3.11.6"
  }
 },
 "nbformat": 4,
 "nbformat_minor": 2
}
