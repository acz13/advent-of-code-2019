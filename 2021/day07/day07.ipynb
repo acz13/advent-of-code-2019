{
 "cells": [
  {
   "cell_type": "code",
   "execution_count": 1,
   "id": "ce51742c-8bfa-48a0-b2a7-b7164f3bc162",
   "metadata": {},
   "outputs": [
    {
     "data": {
      "application/vnd.jupyter.widget-view+json": {
       "model_id": "44e9b6414e3245fe8d7af98ce5baf6ea",
       "version_major": 2,
       "version_minor": 0
      },
      "text/plain": [
       "Textarea(value='', description='Input:', placeholder='Input data')"
      ]
     },
     "metadata": {},
     "output_type": "display_data"
    }
   ],
   "source": [
    "import ipywidgets as widgets\n",
    "from aocd import submit\n",
    "\n",
    "ta = widgets.Textarea(\n",
    "    placeholder='Input data',\n",
    "    description='Input:',\n",
    "    disabled=False\n",
    ")\n",
    "ta"
   ]
  },
  {
   "cell_type": "code",
   "execution_count": null,
   "id": "a3573ec5-9bd0-4d89-98b0-bec80658f67c",
   "metadata": {},
   "outputs": [],
   "source": [
    "pos = list(map(int, ta.value.split(\",\")))"
   ]
  },
  {
   "cell_type": "code",
   "execution_count": 9,
   "id": "b6c00c1d-fab2-41bd-b4ad-251ad0f56e8b",
   "metadata": {},
   "outputs": [
    {
     "name": "stdout",
     "output_type": "stream",
     "text": [
      "Part 1: 344535\n",
      "Part 2: 95581659\n"
     ]
    }
   ],
   "source": [
    "print(\"Part 1:\", int(min(sum(abs(i - k) for k in pos) for i in range(1, max(pos)+1))))\n",
    "print(\"Part 2:\", min(sum(abs(i - k)*(abs(i - k)+1) for k in pos) for i in range(1, max(pos)+1))//2)"
   ]
  },
  {
   "cell_type": "code",
   "execution_count": 10,
   "id": "9a28d760-af93-4991-b70a-0b6f494dcc73",
   "metadata": {},
   "outputs": [
    {
     "name": "stdout",
     "output_type": "stream",
     "text": [
      "701 ms ± 53.4 ms per loop (mean ± std. dev. of 7 runs, 1 loop each)\n"
     ]
    }
   ],
   "source": [
    "%timeit min(sum(abs(i - k)*(abs(i - k)+1) for k in pos) for i in range(1, max(pos)+1))//2"
   ]
  },
  {
   "cell_type": "code",
   "execution_count": null,
   "id": "99e2f024-e53a-40d4-b54f-cfa3400cc5ad",
   "metadata": {},
   "outputs": [],
   "source": []
  }
 ],
 "metadata": {
  "kernelspec": {
   "display_name": "Python 3 (ipykernel)",
   "language": "python",
   "name": "python3"
  },
  "language_info": {
   "codemirror_mode": {
    "name": "ipython",
    "version": 3
   },
   "file_extension": ".py",
   "mimetype": "text/x-python",
   "name": "python",
   "nbconvert_exporter": "python",
   "pygments_lexer": "ipython3",
   "version": "3.9.7"
  }
 },
 "nbformat": 4,
 "nbformat_minor": 5
}
