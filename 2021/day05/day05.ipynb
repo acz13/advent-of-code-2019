{
 "cells": [
  {
   "cell_type": "code",
   "execution_count": 2,
   "id": "55a47829-4f67-4e10-a0f0-cde18b5ad722",
   "metadata": {
    "tags": []
   },
   "outputs": [
    {
     "data": {
      "application/vnd.jupyter.widget-view+json": {
       "model_id": "de5c887875ad4d13b13b802c1d337e7f",
       "version_major": 2,
       "version_minor": 0
      },
      "text/plain": [
       "Textarea(value='', description='Input:', placeholder='Input data')"
      ]
     },
     "metadata": {},
     "output_type": "display_data"
    }
   ],
   "source": [
    "import ipywidgets as widgets\n",
    "from aocd import submit\n",
    "\n",
    "ta = widgets.Textarea(\n",
    "    placeholder='Input data',\n",
    "    description='Input:',\n",
    "    disabled=False\n",
    ")\n",
    "ta"
   ]
  },
  {
   "cell_type": "code",
   "execution_count": 40,
   "id": "ab8409c4-8562-4b18-833c-c844e20c62b1",
   "metadata": {},
   "outputs": [],
   "source": [
    "    points = [[int(x) for k in line.split(\" -> \") for x in k.split(\",\")] for line in ta.value.splitlines()]"
   ]
  },
  {
   "cell_type": "code",
   "execution_count": 41,
   "id": "82bc2d49-ecfb-4b9b-ba76-339a7d6726ba",
   "metadata": {},
   "outputs": [],
   "source": [
    "    fpoints = [l for l in points if l[0] == l[2] or l[1] == l[3]]\n",
    "    dpoints = [l for l in points if l[0] != l[2] and l[1] != l[3]]"
   ]
  },
  {
   "cell_type": "code",
   "execution_count": 46,
   "id": "b7b29290-109f-4c5b-bd85-4d3bd0f3ee5b",
   "metadata": {},
   "outputs": [
    {
     "name": "stdout",
     "output_type": "stream",
     "text": [
      "Part 1 7436\n",
      "Part 2 21104\n"
     ]
    }
   ],
   "source": [
    "    covered = {}\n",
    "    for l in fpoints:\n",
    "        for x in range(min(l[0], l[2]), max(l[0], l[2])+1):\n",
    "            for y in range(min(l[1], l[3]), max(l[1], l[3])+1):\n",
    "                if f\"{x},{y}\" in covered:\n",
    "                    covered[f\"{x},{y}\"] += 1\n",
    "                else:\n",
    "                    covered[f\"{x},{y}\"] = 1\n",
    "\n",
    "    print(\"Part 1\", sum(1 for i in covered.values() if i > 1))\n",
    "\n",
    "    for l in dpoints:\n",
    "        d1 = int(l[2] > l[0]) or -1\n",
    "        d2 = int(l[3] > l[1]) or -1\n",
    "        for i in range(abs(l[2] - l[0]) + 1):\n",
    "            x = l[0] + d1 * i\n",
    "            y = l[1] + d2 * i\n",
    "            if f\"{x},{y}\" in covered:\n",
    "                covered[f\"{x},{y}\"] += 1\n",
    "            else:\n",
    "                covered[f\"{x},{y}\"] = 1\n",
    "\n",
    "    print(\"Part 2\", sum(1 for i in covered.values() if i > 1))"
   ]
  },
  {
   "cell_type": "code",
   "execution_count": 48,
   "id": "12459cc1-66f4-4140-a8d3-d96f116bccd1",
   "metadata": {},
   "outputs": [],
   "source": [
    "from aocd import get_data\n",
    "data = get_data(day=5, year=2021, block=True)\n",
    "with open(\"input.txt\", \"w\") as f:\n",
    "    f.write(data)"
   ]
  }
 ],
 "metadata": {
  "kernelspec": {
   "display_name": "Python [conda env:root] *",
   "language": "python",
   "name": "conda-root-py"
  },
  "language_info": {
   "codemirror_mode": {
    "name": "ipython",
    "version": 3
   },
   "file_extension": ".py",
   "mimetype": "text/x-python",
   "name": "python",
   "nbconvert_exporter": "python",
   "pygments_lexer": "ipython3",
   "version": "3.9.7"
  }
 },
 "nbformat": 4,
 "nbformat_minor": 5
}
