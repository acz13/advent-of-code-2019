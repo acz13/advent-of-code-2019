{
 "cells": [
  {
   "cell_type": "code",
   "execution_count": 1,
   "id": "2b078b9f-d502-4e43-8992-0a9c7b840097",
   "metadata": {},
   "outputs": [
    {
     "data": {
      "application/vnd.jupyter.widget-view+json": {
       "model_id": "9128ddd130314273a9c998b1adac31cf",
       "version_major": 2,
       "version_minor": 0
      },
      "text/plain": [
       "Textarea(value='', description='Input:', placeholder='Input data')"
      ]
     },
     "metadata": {},
     "output_type": "display_data"
    }
   ],
   "source": [
    "import ipywidgets as widgets\n",
    "from aocd import submit\n",
    "\n",
    "ta = widgets.Textarea(\n",
    "    placeholder='Input data',\n",
    "    description='Input:',\n",
    "    disabled=False\n",
    ")\n",
    "display(ta)"
   ]
  },
  {
   "cell_type": "code",
   "execution_count": 2,
   "id": "b244966a-cbbe-44b1-ac29-dfb477f9f7ad",
   "metadata": {},
   "outputs": [],
   "source": [
    "data = ta.value"
   ]
  },
  {
   "cell_type": "code",
   "execution_count": 53,
   "id": "d60788b7-a416-4860-a97e-7ac5e31b1555",
   "metadata": {},
   "outputs": [
    {
     "name": "stdout",
     "output_type": "stream",
     "text": [
      "fold along x=655\n",
      "fold along y=447\n",
      "fold along x=327\n",
      "fold along y=223\n",
      "fold along x=163\n",
      "fold along y=111\n",
      "fold along x=81\n",
      "fold along y=55\n",
      "fold along x=40\n",
      "fold along y=27\n",
      "fold along y=13\n",
      "fold along y=6\n",
      "00000000  00    00    0000    00    00    0000    00000000  00    00    0000  \n",
      "      00  00  00    00    00  00    00  00    00  00        00    00  00    00\n",
      "    00    0000      00    00  00    00  00        000000    00    00  00      \n",
      "  00      00  00    00000000  00    00  00        00        00    00  00      \n",
      "00        00  00    00    00  00    00  00    00  00        00    00  00    00\n",
      "00000000  00    00  00    00    0000      0000    00          0000      0000  \n",
      "||||||||  ||    ||    ||||    ||    ||    ||||    ||||||||  ||    ||    ||||  \n",
      "      ||  ||  ||    ||    ||  ||    ||  ||    ||  ||        ||    ||  ||    ||\n",
      "    ||    ||||      ||    ||  ||    ||  ||        ||||||    ||    ||  ||      \n",
      "  ||      ||  ||    ||||||||  ||    ||  ||        ||        ||    ||  ||      \n",
      "||        ||  ||    ||    ||  ||    ||  ||    ||  ||        ||    ||  ||    ||\n",
      "||||||||  ||    ||  ||    ||    ||||      ||||    ||          ||||      ||||  \n",
      "aaaaaaaa  aa    aa    aaaa    aa    aa    aaaa    aaaaaaaa  aa    aa    aaaa  \n",
      "      aa  aa  aa    aa    aa  aa    aa  aa    aa  aa        aa    aa  aa    aa\n",
      "    aa    aaaa      aa    aa  aa    aa  aa        aaaaaa    aa    aa  aa      \n",
      "  aa      aa  aa    aaaaaaaa  aa    aa  aa        aa        aa    aa  aa      \n",
      "aa        aa  aa    aa    aa  aa    aa  aa    aa  aa        aa    aa  aa    aa\n",
      "aaaaaaaa  aa    aa  aa    aa    aaaa      aaaa    aa          aaaa      aaaa  \n",
      "........  ..    ..    ....    ..    ..    ....    ........  ..    ..    ....  \n",
      "      ..  ..  ..    ..    ..  ..    ..  ..    ..  ..        ..    ..  ..    ..\n",
      "    ..    ....      ..    ..  ..    ..  ..        ......    ..    ..  ..      \n",
      "  ..      ..  ..    ........  ..    ..  ..        ..        ..    ..  ..      \n",
      "..        ..  ..    ..    ..  ..    ..  ..    ..  ..        ..    ..  ..    ..\n",
      "........  ..    ..  ..    ..    ....      ....    ..          ....      ....  \n"
     ]
    }
   ],
   "source": [
    "dots, folds = data.split(\"\\n\\n\")\n",
    "_dots = {tuple(map(int, dot.split(\",\"))) for dot in dots.split(\"\\n\")}\n",
    "def foldx(__dots, _x):\n",
    "    x, y = map(max, zip(*__dots))\n",
    "    return {(i, j) for i in range(0, _x) for j in range(0, y+1) if ((i, j) in __dots) or ((2*_x-i, j) in __dots)}\n",
    "\n",
    "def foldy(__dots, _y):\n",
    "    x, y = map(max, zip(*__dots))\n",
    "    return {(i, j) for i in range(0, x+1) for j in range(0, _y) if ((i, j) in __dots) or ((i, 2*_y-j) in __dots)}\n",
    "\n",
    "def p(__dots, c=\"0\"):\n",
    "    x, y = map(max, zip(*__dots))\n",
    "    for j in range(0, y+1):\n",
    "        for i in range(0, x+1):\n",
    "            if (i, j) in __dots:\n",
    "                print(c*2, end=\"\")\n",
    "            else:\n",
    "                print(\"  \", end=\"\")\n",
    "        print()\n",
    "\n",
    "\n",
    "__dots = _dots\n",
    "for fold in folds.split(\"\\n\"):\n",
    "    if fold[11] == \"x\":\n",
    "        __dots = foldx(__dots, int(fold[13:]))\n",
    "    if fold[11] == \"y\":\n",
    "        __dots = foldy(__dots, int(fold[13:]))\n",
    "    print(fold)\n",
    "p(__dots)\n",
    "p(__dots, \"|\")\n",
    "p(__dots, \"a\")\n",
    "p(__dots, \".\")"
   ]
  },
  {
   "cell_type": "code",
   "execution_count": null,
   "id": "f05e2dfe-16e1-4d92-a893-ea3fcbf6d450",
   "metadata": {},
   "outputs": [],
   "source": []
  }
 ],
 "metadata": {
  "kernelspec": {
   "display_name": "Python 3 (ipykernel)",
   "language": "python",
   "name": "python3"
  },
  "language_info": {
   "codemirror_mode": {
    "name": "ipython",
    "version": 3
   },
   "file_extension": ".py",
   "mimetype": "text/x-python",
   "name": "python",
   "nbconvert_exporter": "python",
   "pygments_lexer": "ipython3",
   "version": "3.9.7"
  }
 },
 "nbformat": 4,
 "nbformat_minor": 5
}
