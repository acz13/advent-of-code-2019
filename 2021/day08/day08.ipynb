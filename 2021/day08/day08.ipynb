{
 "cells": [
  {
   "cell_type": "code",
   "execution_count": 1,
   "id": "cf61d703-4b83-499f-addc-c44dfd09b3bf",
   "metadata": {},
   "outputs": [
    {
     "data": {
      "application/vnd.jupyter.widget-view+json": {
       "model_id": "3dd21c9e24ac4997ac4823dfa5344b35",
       "version_major": 2,
       "version_minor": 0
      },
      "text/plain": [
       "Textarea(value='', description='Input:', placeholder='Input data')"
      ]
     },
     "metadata": {},
     "output_type": "display_data"
    }
   ],
   "source": [
    "import ipywidgets as widgets\n",
    "from aocd import submit\n",
    "\n",
    "ta = widgets.Textarea(\n",
    "    placeholder='Input data',\n",
    "    description='Input:',\n",
    "    disabled=False\n",
    ")\n",
    "display(ta)"
   ]
  },
  {
   "cell_type": "code",
   "execution_count": 2,
   "id": "51f3ab4e-5ce7-4635-9439-145713984a6c",
   "metadata": {},
   "outputs": [
    {
     "data": {
      "text/plain": [
       "514"
      ]
     },
     "execution_count": 2,
     "metadata": {},
     "output_type": "execute_result"
    }
   ],
   "source": [
    "sum(len(i) == 2 or len(i) == 3 or len(i) == 4 or len(i) == 7 for line in ta.value.splitlines() for i in line.split(\"|\")[1].strip().split())"
   ]
  },
  {
   "cell_type": "code",
   "execution_count": 19,
   "id": "2cb25fef-f475-4bec-8362-f2a47877827d",
   "metadata": {
    "tags": []
   },
   "outputs": [
    {
     "name": "stdout",
     "output_type": "stream",
     "text": [
      "7.41 ms ± 312 µs per loop (mean ± std. dev. of 7 runs, 100 loops each)\n"
     ]
    }
   ],
   "source": [
    "%%timeit\n",
    "from collections import defaultdict\n",
    "\n",
    "def g(s):\n",
    "    return next(iter(s))\n",
    "\n",
    "o = frozenset.intersection\n",
    "a = frozenset(\"abcdefg\")\n",
    "\n",
    "# The true mapping of wires to digits\n",
    "_n = (\"abcefg\", \"cf\", \"acdeg\", \"acdfg\", \"bdcf\", \"abdfg\", \"abdefg\", \"acf\", \"abcdefg\", \"abcdfg\")\n",
    "n = {frozenset(l): str(i) for i, l in enumerate(_n)}\n",
    "\n",
    "def p(line):\n",
    "    i, k = line.split(\"|\")\n",
    "    l = defaultdict(set)\n",
    "    m = {}\n",
    "    \n",
    "    # l[length] is a set containing the frozensets of (scrambled) inputs with that length\n",
    "    for word in i.strip().split():\n",
    "        l[len(word)].add(frozenset(word))\n",
    "\n",
    "    # g(s) is a helper function that just returns the first (only) value in a set\n",
    "\n",
    "    # g(l[3]) corresponds to the digit 7 and g(l[2]) corresponds to the digit 1\n",
    "    # \"a\" is the only wire found in both\n",
    "    m[\"a\"] = g(g(l[3]) ^ g(l[2]))\n",
    "    \n",
    "    # o(*s) finds the intersection of all the sets s\n",
    "    # \"g\" and \"a\" are the only wires found every digit of length 5 or 6\n",
    "    # so we find the two wires corresponding to \"g\" and \"a\", and subtract\n",
    "    # the wire we already found for \"a\"\n",
    "    m[\"g\"] = g(o(*(l[6] | l[5])) ^ {m[\"a\"]})\n",
    "    \n",
    "    # g(l[4]) corresponds to the digit 4. a is the frozenset of all the wires,\n",
    "    # which I could have just used g(l[7]) for.\n",
    "    # \"e\", \"a\", and \"g\" are the wires missing from the digit 4. Find those\n",
    "    # and take out our known wires for \"a\" and \"g\"\n",
    "    m[\"e\"] = g(a ^ g(l[4]) ^ {m[\"a\"], m[\"g\"]})\n",
    "    \n",
    "    # \"d\", \"a\", and \"g\" are found in every wire of length 5. Find those and\n",
    "    # take out our known wires for \"a\" and \"g\"\n",
    "    m[\"d\"] = g(o(*l[5]) ^ {m[\"a\"], m[\"g\"]})\n",
    "    \n",
    "    # \"c\" is the only wire in both the digits 6 and 1. We can find which\n",
    "    # input is 6 by since of the digits of length 5, only 6 contains \"e\"\n",
    "    m[\"c\"] = g(next(w for w in l[5] if m[\"e\"] in w) & g(l[2]))\n",
    "    \n",
    "    # The digit 1 contains only \"c\" and \"f\". Once we find \"c\", we know \"f\"\n",
    "    m[\"f\"] = g(g(l[2]) ^ {m[\"c\"]})\n",
    "    \n",
    "    # \"b\" is the only one we haven't found yet\n",
    "    m[\"b\"] = g(a ^ set(m.values()))\n",
    "\n",
    "    # Turn our mapping into a translation dictionary for use with str.translate\n",
    "    f = {ord(v): ord(k) for k, v in m.items()}\n",
    "\n",
    "    return int(\"\".join(n[frozenset(w.translate(f))] for w in k.strip().split()))\n",
    "\n",
    "sum(p(l) for l in ta.value.splitlines())"
   ]
  },
  {
   "cell_type": "code",
   "execution_count": 11,
   "id": "ba37540c-f4de-4c17-99a9-8d98139237b7",
   "metadata": {},
   "outputs": [
    {
     "name": "stdout",
     "output_type": "stream",
     "text": [
      "554 ms ± 37.9 ms per loop (mean ± std. dev. of 7 runs, 1 loop each)\n"
     ]
    }
   ],
   "source": [
    "%%timeit\n",
    "\n",
    "from itertools import permutations\n",
    "\n",
    "def p_permutate(perms, mapping, line):\n",
    "    i, k = map(str.split, line.split(\"|\"))\n",
    "    for perm in perms:\n",
    "        for w in i:\n",
    "            if not mapping[sum(map(perm.get, w))]:\n",
    "                break\n",
    "        else:\n",
    "            return int(\"\".join(mapping[sum(map(perm.get, w))] for w in k))\n",
    "\n",
    "bits = (1, 2, 4, 8, 16, 32, 64, 128)\n",
    "_n = (\"abcefg\", \"cf\", \"acdeg\", \"acdfg\", \"bdcf\", \"abdfg\", \"abdefg\", \"acf\", \"abcdefg\", \"abcdfg\")\n",
    "\n",
    "mapping = [0] * 256\n",
    "for i in range(10):\n",
    "    mapping[sum(bits[ord(c)-97] for c in _n[i])] = str(i)\n",
    "\n",
    "perms = tuple(map(lambda p: dict(zip(p, bits)), permutations(\"abcdefg\")))\n",
    "sum(p_permutate(perms, mapping, line) for line in ta.value.splitlines())"
   ]
  },
  {
   "cell_type": "code",
   "execution_count": 31,
   "id": "c3c50219-7be3-4bf6-87de-d6c71712187d",
   "metadata": {},
   "outputs": [
    {
     "data": {
      "text/plain": [
       "1012272"
      ]
     },
     "execution_count": 31,
     "metadata": {},
     "output_type": "execute_result"
    }
   ],
   "source": [
    "bits = (1, 2, 4, 8, 16, 32, 64, 128)\n",
    "_n = (\"abcefg\", \"cf\", \"acdeg\", \"acdfg\", \"bdcf\", \"abdfg\", \"abdefg\", \"acf\", \"abcdefg\", \"abcdfg\")\n",
    "\n",
    "_perm = dict(zip(\"abcdefg\", bits))\n",
    "\n",
    "mapping = [0] * 256\n",
    "for i in range(10):\n",
    "    mapping[sum(map(_perm.get, _n[i]))] = str(i)\n",
    "\n",
    "perms = {}\n",
    "\n",
    "for p in permutations(\"abcdefg\"):\n",
    "    scramble = dict(zip(\"abcdefg\", map(_perm.get, p)))\n",
    "    key = frozenset(sum(map(scramble.get, w)) for w in _n)\n",
    "\n",
    "    unscramble = dict(zip(p, bits))\n",
    "    perms[key] = unscramble\n",
    "\n",
    "def p_permutate_cached(line):\n",
    "    i, k = map(str.split, line.split(\"|\"))\n",
    "    key = frozenset(sum(map(_perm.get, w)) for w in i)\n",
    "    perm = perms[key]\n",
    "    return int(\"\".join(mapping[sum(map(perm.get, w))] for w in k))\n",
    "\n",
    "sum(p_permutate_cached(line) for line in ta.value.splitlines())"
   ]
  },
  {
   "cell_type": "code",
   "execution_count": 25,
   "id": "fe33c60d-8895-4d94-a2aa-5082702e6c16",
   "metadata": {},
   "outputs": [
    {
     "data": {
      "text/plain": [
       "1012272"
      ]
     },
     "execution_count": 25,
     "metadata": {},
     "output_type": "execute_result"
    }
   ],
   "source": [
    "_n = (\"abcefg\", \"cf\", \"acdeg\", \"acdfg\", \"bdcf\", \"abdfg\", \"abdefg\", \"acf\", \"abcdefg\", \"abcdfg\")\n",
    "mapping = { frozenset(_n[i]): str(i) for i in range(10) }\n",
    "\n",
    "y = \"abcdefg\"\n",
    "perms = {}\n",
    "for p in permutations(y):\n",
    "    scramble = {}\n",
    "    unscramble = {}\n",
    "    \n",
    "    for _p, _y in zip(p, y):\n",
    "        scramble[ord(_p)] = ord(_y)\n",
    "        unscramble[ord(_y)] = ord(_p)\n",
    "    \n",
    "    key = frozenset(frozenset(w.translate(scramble)) for w in _n)\n",
    "    perms[key] = unscramble\n",
    "\n",
    "def p_permutate_cached2(line):\n",
    "    i, k = map(str.split, line.split(\"|\"))\n",
    "    key = frozenset(map(frozenset, i))\n",
    "    perm = perms[key]\n",
    "    return int(\"\".join(mapping[frozenset(w.translate(perm))] for w in k))\n",
    "\n",
    "sum(p_permutate_cached2(line) for line in ta.value.splitlines())"
   ]
  },
  {
   "cell_type": "code",
   "execution_count": 27,
   "id": "bfc0bfa7-2808-42e1-bd8c-6f6cd657613a",
   "metadata": {},
   "outputs": [],
   "source": [
    "with open(\"8-100000.in\", \"r\") as f:\n",
    "    bigboy = f.readlines()"
   ]
  },
  {
   "cell_type": "code",
   "execution_count": 32,
   "id": "1b9457b4-2204-495c-bd9d-6948ae7175b4",
   "metadata": {},
   "outputs": [
    {
     "name": "stdout",
     "output_type": "stream",
     "text": [
      "1.6 s ± 64 ms per loop (mean ± std. dev. of 7 runs, 1 loop each)\n"
     ]
    }
   ],
   "source": [
    "%timeit sum(p_permutate_cached(line) for line in bigboy)"
   ]
  }
 ],
 "metadata": {
  "kernelspec": {
   "display_name": "Python 3 (ipykernel)",
   "language": "python",
   "name": "python3"
  },
  "language_info": {
   "codemirror_mode": {
    "name": "ipython",
    "version": 3
   },
   "file_extension": ".py",
   "mimetype": "text/x-python",
   "name": "python",
   "nbconvert_exporter": "python",
   "pygments_lexer": "ipython3",
   "version": "3.9.7"
  }
 },
 "nbformat": 4,
 "nbformat_minor": 5
}
