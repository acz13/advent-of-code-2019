{
 "cells": [
  {
   "cell_type": "code",
   "execution_count": 1,
   "id": "49e19625-6b71-45b7-b3f4-f1cc2440d3de",
   "metadata": {},
   "outputs": [],
   "source": [
    "from itertools import permutations"
   ]
  },
  {
   "cell_type": "code",
   "execution_count": 4,
   "id": "d6736354-89c4-44b4-bca2-4ca8b20a6338",
   "metadata": {},
   "outputs": [],
   "source": [
    "with open(\"input.txt\", \"r\") as f:\n",
    "    data = f.readlines()"
   ]
  },
  {
   "cell_type": "code",
   "execution_count": 47,
   "id": "f8b03f9b-e184-402e-b6f2-331604471e06",
   "metadata": {},
   "outputs": [],
   "source": [
    "def p_permutate(perms, mapping, line):\n",
    "    i, k = map(str.split, line.split(\"|\"))\n",
    "    for perm in perms:\n",
    "        for w in i:\n",
    "            if not mapping[sum(map(perm.get, w))]:\n",
    "                break\n",
    "        else:\n",
    "            return int(\"\".join(mapping[sum(map(perm.get, w))] for w in k))\n",
    "\n",
    "bits = (1, 2, 4, 8, 16, 32, 64, 128)\n",
    "_n = (\"abcefg\", \"cf\", \"acdeg\", \"acdfg\", \"bdcf\", \"abdfg\", \"abdefg\", \"acf\", \"abcdefg\", \"abcdfg\")\n",
    "\n",
    "mapping = [0] * 256\n",
    "for i in range(10):\n",
    "    mapping[sum(bits[ord(c)-97] for c in _n[i])] = str(i)\n",
    "\n",
    "perms = tuple(map(lambda p: dict(zip(p, bits)), permutations(\"abcdefg\")))"
   ]
  },
  {
   "cell_type": "code",
   "execution_count": 48,
   "id": "98ab2636-eb19-43a8-9514-46224d1acb39",
   "metadata": {},
   "outputs": [
    {
     "name": "stdout",
     "output_type": "stream",
     "text": [
      "367 ms ± 13.8 ms per loop (mean ± std. dev. of 7 runs, 1 loop each)\n"
     ]
    }
   ],
   "source": [
    "%timeit sum(p_permutate(perms, mapping, line) for line in data)"
   ]
  }
 ],
 "metadata": {
  "kernelspec": {
   "display_name": "Python [conda env:pypy3.8]",
   "language": "python",
   "name": "conda-env-pypy3.8-py"
  },
  "language_info": {
   "codemirror_mode": {
    "name": "ipython",
    "version": 3
   },
   "file_extension": ".py",
   "mimetype": "text/x-python",
   "name": "python",
   "nbconvert_exporter": "python",
   "pygments_lexer": "ipython3",
   "version": "3.8.12"
  }
 },
 "nbformat": 4,
 "nbformat_minor": 5
}
