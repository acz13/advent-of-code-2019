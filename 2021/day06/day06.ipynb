{
 "cells": [
  {
   "cell_type": "code",
   "execution_count": 1,
   "id": "0aaf0520-aeab-4f51-975d-10e0252b6e0f",
   "metadata": {
    "tags": []
   },
   "outputs": [
    {
     "data": {
      "application/vnd.jupyter.widget-view+json": {
       "model_id": "b3531f8f8d694f5db7e2928f129e34fa",
       "version_major": 2,
       "version_minor": 0
      },
      "text/plain": [
       "Textarea(value='', description='Input:', placeholder='Input data')"
      ]
     },
     "metadata": {},
     "output_type": "display_data"
    }
   ],
   "source": [
    "import ipywidgets as widgets\n",
    "from aocd import submit\n",
    "\n",
    "ta = widgets.Textarea(\n",
    "    placeholder='Input data',\n",
    "    description='Input:',\n",
    "    disabled=False\n",
    ")\n",
    "ta"
   ]
  },
  {
   "cell_type": "code",
   "execution_count": 2,
   "id": "7f6a0cb7-a263-41e4-a95d-e4137d21db85",
   "metadata": {
    "tags": []
   },
   "outputs": [],
   "source": [
    "import collections\n",
    "\n",
    "def disp(i):\n",
    "    s = str(i)\n",
    "    return f\"{s[0]}.{s[1:5]}e{len(s)-1}\"\n",
    "\n",
    "def lanternfish_count(ages, t):\n",
    "    day_counter = collections.Counter(t - age - 1 for age in ages)\n",
    "\n",
    "    # Start computing our table from here\n",
    "    combs = collections.deque([1, 0, 0, 0, 0, 0, 0, 1, 0])\n",
    "    # and our sums from here\n",
    "    population = 3\n",
    "\n",
    "    def _iterate():\n",
    "        s = combs.popleft() + combs[1]\n",
    "        combs.append(s)\n",
    "        return s\n",
    "    \n",
    "    k = 8\n",
    "    for i in range(9, t-6):\n",
    "        population += _iterate()\n",
    "        k += 1\n",
    "        if k == 10000:\n",
    "            print(f\"\\rDay {i}: Table at {disp(population)}\", end=\"\")\n",
    "            k = 0\n",
    "    \n",
    "    count = 0\n",
    "\n",
    "    for day in range(t-6, t):\n",
    "        population += _iterate()\n",
    "        count += day_counter[day] * population\n",
    "\n",
    "    return count"
   ]
  },
  {
   "cell_type": "code",
   "execution_count": 4,
   "id": "3ee713ea-a143-42e9-aa04-d7e6d946a3a6",
   "metadata": {},
   "outputs": [
    {
     "name": "stdout",
     "output_type": "stream",
     "text": [
      "Part 1: 386640\n",
      "Part 2: 1733403626279\n"
     ]
    }
   ],
   "source": [
    "ages = [int(i) for i in ta.value.split(\",\")]\n",
    "print(\"Part 1:\", lanternfish_count(ages, 80))\n",
    "print(\"Part 2:\", lanternfish_count(ages, 256))"
   ]
  }
 ],
 "metadata": {
  "kernelspec": {
   "display_name": "Python 3 (ipykernel)",
   "language": "python",
   "name": "python3"
  },
  "language_info": {
   "codemirror_mode": {
    "name": "ipython",
    "version": 3
   },
   "file_extension": ".py",
   "mimetype": "text/x-python",
   "name": "python",
   "nbconvert_exporter": "python",
   "pygments_lexer": "ipython3",
   "version": "3.9.7"
  }
 },
 "nbformat": 4,
 "nbformat_minor": 5
}
